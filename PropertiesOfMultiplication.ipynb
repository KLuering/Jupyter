{
 "cells": [
  {
   "cell_type": "code",
   "execution_count": 15,
   "metadata": {},
   "outputs": [
    {
     "data": {
      "text/latex": [
       "$\\displaystyle \\frac{\\left(3 w^{6} + \\left(- w^{3} \\left(w - 4\\right) + w + 1\\right)^{3}\\right) \\left(y + z\\right)}{w^{6}}$"
      ],
      "text/plain": [
       "<IPython.core.display.Math object>"
      ]
     },
     "metadata": {},
     "output_type": "display_data"
    },
    {
     "data": {
      "text/latex": [
       "$\\displaystyle \\frac{\\left(3 w^{6} + \\left(- w^{3} \\left(w - 4\\right) + w + 1\\right)^{3}\\right) \\left(y + z\\right)}{w^{6}}$"
      ],
      "text/plain": [
       "<IPython.core.display.Math object>"
      ]
     },
     "metadata": {},
     "output_type": "display_data"
    }
   ],
   "source": [
    "import sympy as sym\n",
    "import numpy as np\n",
    "from IPython.display import display,Math\n",
    "from sympy.abc import w,x,y,z\n",
    "\n",
    "w,x,y,z = sym.symbols('w,x,y,z')\n",
    "\n",
    "x = w*(4-w) + 1/w**2 * (1+w)\n",
    "\n",
    "f1 = x*(y+z)\n",
    "\n",
    "f2 = 3/x + x**2\n",
    "\n",
    "display(Math(sym.latex(sym.simplify(f1*f2))))\n",
    "display(Math(sym.latex(sym.simplify(f2*f1))))"
   ]
  }
 ],
 "metadata": {
  "kernelspec": {
   "display_name": "Python 3",
   "language": "python",
   "name": "python3"
  },
  "language_info": {
   "codemirror_mode": {
    "name": "ipython",
    "version": 3
   },
   "file_extension": ".py",
   "mimetype": "text/x-python",
   "name": "python",
   "nbconvert_exporter": "python",
   "pygments_lexer": "ipython3",
   "version": "3.7.6"
  }
 },
 "nbformat": 4,
 "nbformat_minor": 4
}
