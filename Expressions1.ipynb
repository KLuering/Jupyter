{
 "cells": [
  {
   "cell_type": "code",
   "execution_count": 1,
   "metadata": {},
   "outputs": [],
   "source": [
    "import sympy as sym\n",
    "from IPython.display import display,Math"
   ]
  },
  {
   "cell_type": "code",
   "execution_count": 4,
   "metadata": {},
   "outputs": [
    {
     "name": "stdout",
     "output_type": "stream",
     "text": [
      "Solution #1 is 1/2 - sqrt(7)/2\n",
      "Solution #2 is 1/2 + sqrt(7)/2\n"
     ]
    }
   ],
   "source": [
    "q = sym.symbols('q')\n",
    "\n",
    "expr = 2*q - 3/q - 2\n",
    "\n",
    "sol = sym.solve(expr)\n",
    "\n",
    "for i in range(0, len(sol)):\n",
    "    print('Solution #' + str(i+1) + ' is ' + str(sol[i]))"
   ]
  },
  {
   "cell_type": "code",
   "execution_count": null,
   "metadata": {},
   "outputs": [],
   "source": []
  }
 ],
 "metadata": {
  "kernelspec": {
   "display_name": "Python 3",
   "language": "python",
   "name": "python3"
  },
  "language_info": {
   "codemirror_mode": {
    "name": "ipython",
    "version": 3
   },
   "file_extension": ".py",
   "mimetype": "text/x-python",
   "name": "python",
   "nbconvert_exporter": "python",
   "pygments_lexer": "ipython3",
   "version": "3.7.6"
  }
 },
 "nbformat": 4,
 "nbformat_minor": 4
}
